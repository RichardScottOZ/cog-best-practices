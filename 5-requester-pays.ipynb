{
 "cells": [
  {
   "cell_type": "markdown",
   "id": "2c7593b0",
   "metadata": {},
   "source": [
    "# Requester-pays buckets\n",
    "\n",
    "A lot of large datasets are being stored as \"requester pays buckets\". This is because cloud-providers charge high fees for transferring data over the internet, and \"requester-pays\" means the person who *requests* the data, rather than the data provider must foot the bill. Cloud providers (AWS, Azure, Google) have slightly different configurations for this, in this notebook we'll just look at some data in AWS, docs here https://docs.aws.amazon.com/AmazonS3/latest/userguide/RequesterPaysBuckets.html \n",
    "\n",
    "[NAIP imagery](https://registry.opendata.aws/naip/) is in a requester-pays bucket, this notebook illustrates access.\n",
    "\n",
    "Keep in mind:\n",
    "\n",
    "1. *If the bucket is in the same datacenter as your compute you don't pay hefty egress fees!*\n",
    "    * **Pangeo AWS Binder runs in aws-uswest-2, and NAIP data is located there as well**\n",
    "    \n",
    "1. *If you're doing large-scale analysis you might also be charged for high numbers of GET requests (even if you're running in the same data-center. So keep that in mind. It's hard to know in advance what the cost will be since the pricing schemes are quite complex https://aws.amazon.com/s3/pricing/*"
   ]
  },
  {
   "cell_type": "code",
   "execution_count": null,
   "id": "82b84130",
   "metadata": {},
   "outputs": [],
   "source": [
    "import rasterio\n",
    "import rioxarray\n",
    "import os\n",
    "import hvplot.xarray"
   ]
  },
  {
   "cell_type": "code",
   "execution_count": null,
   "id": "e45a1ffc",
   "metadata": {},
   "outputs": [],
   "source": [
    "# Some GDAL Optimizations and authentication settings\n",
    "env = dict(GDAL_DISABLE_READDIR_ON_OPEN='EMPTY_DIR',\n",
    "           AWS_REQUEST_PAYER='requester',\n",
    "           AWS_DEFAULT_REGION='us-west-2')\n",
    "os.environ.update(env)"
   ]
  },
  {
   "cell_type": "markdown",
   "id": "c8ba9fdf",
   "metadata": {},
   "source": [
    "## RGB Visual"
   ]
  },
  {
   "cell_type": "code",
   "execution_count": null,
   "id": "ef097645",
   "metadata": {},
   "outputs": [],
   "source": [
    "# Let rasterio handle authentication\n",
    "# If running on Pangeo AWS Binder our role has permissions to read NAIP buckets\n",
    "\n",
    "from rasterio.session import AWSSession\n",
    "env = rasterio.Env(AWSSession(region_name='us-west-2', \n",
    "                              #requester_pays=False, #RasterioIOError: Access Denied\n",
    "                              requester_pays=True,\n",
    "                             ))"
   ]
  },
  {
   "cell_type": "code",
   "execution_count": null,
   "id": "fd411282",
   "metadata": {},
   "outputs": [],
   "source": [
    "# NOTE: analytic assets at s3://naip-analytic/ \n",
    "s3path = 's3://naip-visualization/wa/2017/100cm/rgb/47122/m_4712264_ne_10_1_20170928.tif'\n",
    "with env:\n",
    "    with rasterio.open(s3path) as src:\n",
    "        print(src.profile)\n",
    "        da = rioxarray.open_rasterio(src, chunks={'band': -1, 'x': src.width/2, 'y': src.height/2})\n",
    "da"
   ]
  },
  {
   "cell_type": "code",
   "execution_count": null,
   "id": "054fe21d",
   "metadata": {},
   "outputs": [],
   "source": [
    "da.hvplot.rgb(x='x',y='y',rasterize=True, data_aspect=1, frame_width=500)"
   ]
  },
  {
   "cell_type": "markdown",
   "id": "edae7b6c",
   "metadata": {},
   "source": [
    "## Mulltiband Analytic"
   ]
  },
  {
   "cell_type": "code",
   "execution_count": null,
   "id": "d9b64bd2",
   "metadata": {},
   "outputs": [],
   "source": [
    "# NOTE: analytic COG assets at s3://naip-analytic/\n",
    "s3Path = 's3://naip-analytic/wa/2017/100cm/rgbir_cog/47122/m_4712264_ne_10_1_20170928.tif'\n",
    "with env:\n",
    "    with rasterio.open(s3path) as src:\n",
    "        print(src.profile)\n",
    "        da = rioxarray.open_rasterio(src, chunks={'band': -1, 'x': src.width/2, 'y': src.height/2})\n",
    "da['band'] = ['red','green','blue']\n",
    "#da.name = 'm_4712264_ne_10_1_20170928'\n",
    "ds = da.to_dataset('band')\n",
    "ds['red']"
   ]
  },
  {
   "cell_type": "code",
   "execution_count": null,
   "id": "5a3c8cca",
   "metadata": {},
   "outputs": [],
   "source": [
    "ds['red'].hvplot.image(rasterize=True, data_aspect=1, frame_width=500, cmap='reds')"
   ]
  },
  {
   "cell_type": "markdown",
   "id": "6198afac",
   "metadata": {},
   "source": [
    "## Cluster considerations\n",
    "\n",
    "If you're running computations on a distributed cluster you need to make sure to propagate environment variables to the cluster. See more in [./3-dask-gatewaycluster.ipynb](./3-dask-gateway-cluster.ipynb)"
   ]
  },
  {
   "cell_type": "code",
   "execution_count": null,
   "id": "5e023ebc",
   "metadata": {},
   "outputs": [],
   "source": [
    "gateway = Gateway()\n",
    "options = gateway.cluster_options()\n",
    "options.environment = env \n",
    "cluster = gateway.new_cluster(options)\n",
    "cluster.scale(4) # let's get the same number of \"workers\" as our previous LocalCluster examples"
   ]
  }
 ],
 "metadata": {
  "kernelspec": {
   "display_name": "Python 3",
   "language": "python",
   "name": "python3"
  },
  "language_info": {
   "codemirror_mode": {
    "name": "ipython",
    "version": 3
   },
   "file_extension": ".py",
   "mimetype": "text/x-python",
   "name": "python",
   "nbconvert_exporter": "python",
   "pygments_lexer": "ipython3",
   "version": "3.8.8"
  }
 },
 "nbformat": 4,
 "nbformat_minor": 5
}
